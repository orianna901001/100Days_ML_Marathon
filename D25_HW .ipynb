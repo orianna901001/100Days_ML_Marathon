{
 "cells": [
  {
   "cell_type": "markdown",
   "metadata": {},
   "source": [
    "# 作業\n",
    "* 試著想想看, 非監督學習是否有可能使用評價函數 (Metric) 來鑑別好壞呢?  \n",
    "(Hint : 可以分為 \"有目標值\" 與 \"無目標值\" 兩個方向思考)"
   ]
  },
  {
   "cell_type": "markdown",
   "metadata": {},
   "source": [
    "非監督學習的核心目標在於「探索資料內在結構」，並不是直接去預測某個標籤，由於沒有真實的目標值（ground truth），我們就無法像監督式學習那樣使用 accuracy、precision、recall 等指標來直接衡量好壞。\n",
    "以分群（clustering）為例，只有在你對群組有明確的預期標籤時（或是手動標註了一部分資料）才能用 ARI、NMI 等外部指標做量化比較，雖然分群結果無法用單一監督式指標一錘定音，但它能提供許多洞察（如隱藏的客群輪廓、異常群組等），對後續分析與決策依然非常有價值。\n",
    "否則，就必須仰賴內部指標（像是 Silhouette Score、Davies–Bouldin Index）、降維可視化、以及結合業務／領域知識的質性評估，來判斷這些群是否「合理」、「對業務有意義」。"
   ]
  }
 ],
 "metadata": {
  "kernelspec": {
   "display_name": "Python 3",
   "language": "python",
   "name": "python3"
  },
  "language_info": {
   "codemirror_mode": {
    "name": "ipython",
    "version": 3
   },
   "file_extension": ".py",
   "mimetype": "text/x-python",
   "name": "python",
   "nbconvert_exporter": "python",
   "pygments_lexer": "ipython3",
   "version": "3.7.0"
  }
 },
 "nbformat": 4,
 "nbformat_minor": 1
}
