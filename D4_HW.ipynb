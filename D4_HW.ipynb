{
 "cells": [
  {
   "cell_type": "markdown",
   "metadata": {},
   "source": [
    "# EDA：欄位的資料類型介紹及處理 - 作業程式碼"
   ]
  },
  {
   "cell_type": "markdown",
   "metadata": {},
   "source": [
    "本次作業需要完成兩個部分：\n",
    "- Part1. 請按照下方程式碼提示，建立出 Series 與 DataFrame\n",
    "- Part2. 請上「政府資料開放平臺」，找到感興趣的資料集（限定檔案格式要 CSV 檔或是 Excel 檔），並匯入至 Python，進一步使用 .loc、.iloc 挑選出特定的資料\n",
    "\n",
    "政府資料開放平臺：https://data.gov.tw/"
   ]
  },
  {
   "cell_type": "code",
   "execution_count": 2,
   "metadata": {},
   "outputs": [],
   "source": [
    "import numpy as np\n",
    "import pandas as pd"
   ]
  },
  {
   "cell_type": "markdown",
   "metadata": {},
   "source": [
    "## Part1. 請按照下方程式碼提示，建立出 Series 與 DataFrame"
   ]
  },
  {
   "cell_type": "code",
   "execution_count": 3,
   "metadata": {},
   "outputs": [
    {
     "data": {
      "text/plain": [
       "0    53\n",
       "1    12\n",
       "2    50\n",
       "3    39\n",
       "4    28\n",
       "5    59\n",
       "dtype: int64"
      ]
     },
     "execution_count": 3,
     "metadata": {},
     "output_type": "execute_result"
    }
   ],
   "source": [
    "a_list = [53, 12, 50, 39, 28, 59]\n",
    "\n",
    "pd.Series(a_list)\n"
   ]
  },
  {
   "cell_type": "code",
   "execution_count": 5,
   "metadata": {},
   "outputs": [
    {
     "data": {
      "text/html": [
       "<div>\n",
       "<style scoped>\n",
       "    .dataframe tbody tr th:only-of-type {\n",
       "        vertical-align: middle;\n",
       "    }\n",
       "\n",
       "    .dataframe tbody tr th {\n",
       "        vertical-align: top;\n",
       "    }\n",
       "\n",
       "    .dataframe thead th {\n",
       "        text-align: right;\n",
       "    }\n",
       "</style>\n",
       "<table border=\"1\" class=\"dataframe\">\n",
       "  <thead>\n",
       "    <tr style=\"text-align: right;\">\n",
       "      <th></th>\n",
       "      <th>Column_A</th>\n",
       "      <th>Column_B</th>\n",
       "      <th>Column_C</th>\n",
       "    </tr>\n",
       "  </thead>\n",
       "  <tbody>\n",
       "    <tr>\n",
       "      <th>Andy</th>\n",
       "      <td>14</td>\n",
       "      <td>23</td>\n",
       "      <td>36</td>\n",
       "    </tr>\n",
       "    <tr>\n",
       "      <th>Tom</th>\n",
       "      <td>41</td>\n",
       "      <td>51</td>\n",
       "      <td>64</td>\n",
       "    </tr>\n",
       "    <tr>\n",
       "      <th>Amy</th>\n",
       "      <td>77</td>\n",
       "      <td>83</td>\n",
       "      <td>93</td>\n",
       "    </tr>\n",
       "  </tbody>\n",
       "</table>\n",
       "</div>"
      ],
      "text/plain": [
       "      Column_A  Column_B  Column_C\n",
       "Andy        14        23        36\n",
       "Tom         41        51        64\n",
       "Amy         77        83        93"
      ]
     },
     "execution_count": 5,
     "metadata": {},
     "output_type": "execute_result"
    }
   ],
   "source": [
    "a_2D_list = [[14, 23, 36],\n",
    "             [41, 51, 64],\n",
    "             [77, 83, 93]]\n",
    "column_name_list = [\"Column_A\", \"Column_B\", \"Column_C\"]\n",
    "index_list = [\"Andy\", \"Tom\", \"Amy\"]\n",
    "\n",
    "\"\"\" 請使用 a_2D_list 建立 DataFrame，並分別使用 index_list、column_name_list 定義 Index 與 Column Name\"\"\"\n",
    "\n",
    "pd.DataFrame(a_2D_list,columns=column_name_list,index=index_list)\n"
   ]
  },
  {
   "cell_type": "markdown",
   "metadata": {},
   "source": [
    "## Part2. 請上「政府資料開放平臺」，找到感興趣的資料集（限定檔案格式要 CSV 檔或是 Excel 檔），並匯入至 Python，進一步使用 .loc、.iloc 挑選出特定的資料"
   ]
  },
  {
   "cell_type": "code",
   "execution_count": 8,
   "metadata": {},
   "outputs": [
    {
     "data": {
      "text/html": [
       "<div>\n",
       "<style scoped>\n",
       "    .dataframe tbody tr th:only-of-type {\n",
       "        vertical-align: middle;\n",
       "    }\n",
       "\n",
       "    .dataframe tbody tr th {\n",
       "        vertical-align: top;\n",
       "    }\n",
       "\n",
       "    .dataframe thead th {\n",
       "        text-align: right;\n",
       "    }\n",
       "</style>\n",
       "<table border=\"1\" class=\"dataframe\">\n",
       "  <thead>\n",
       "    <tr style=\"text-align: right;\">\n",
       "      <th></th>\n",
       "      <th>地點</th>\n",
       "      <th>地址</th>\n",
       "      <th>latitude</th>\n",
       "      <th>longitude</th>\n",
       "    </tr>\n",
       "  </thead>\n",
       "  <tbody>\n",
       "    <tr>\n",
       "      <th>0</th>\n",
       "      <td>華南商業銀行路竹分行</td>\n",
       "      <td>721高雄市路竹區大社路90-2號</td>\n",
       "      <td>22.865499</td>\n",
       "      <td>120.263042</td>\n",
       "    </tr>\n",
       "    <tr>\n",
       "      <th>1</th>\n",
       "      <td>高雄順昌郵局</td>\n",
       "      <td>800高雄市新興區七賢一路104、106號</td>\n",
       "      <td>22.633889</td>\n",
       "      <td>120.314262</td>\n",
       "    </tr>\n",
       "    <tr>\n",
       "      <th>2</th>\n",
       "      <td>臺灣土地銀行新興分行</td>\n",
       "      <td>800高雄市新興區七賢一路480號</td>\n",
       "      <td>22.634608</td>\n",
       "      <td>120.304076</td>\n",
       "    </tr>\n",
       "    <tr>\n",
       "      <th>3</th>\n",
       "      <td>華南商業銀行新興分行</td>\n",
       "      <td>800高雄市新興區中山一路117號</td>\n",
       "      <td>22.632174</td>\n",
       "      <td>120.301344</td>\n",
       "    </tr>\n",
       "    <tr>\n",
       "      <th>4</th>\n",
       "      <td>兆豐國際商銀新興分行</td>\n",
       "      <td>800高雄市新興區中山一路308號</td>\n",
       "      <td>22.636466</td>\n",
       "      <td>120.302621</td>\n",
       "    </tr>\n",
       "    <tr>\n",
       "      <th>...</th>\n",
       "      <td>...</td>\n",
       "      <td>...</td>\n",
       "      <td>...</td>\n",
       "      <td>...</td>\n",
       "    </tr>\n",
       "    <tr>\n",
       "      <th>818</th>\n",
       "      <td>茂林郵局</td>\n",
       "      <td>851高雄市茂林區茂林村8-3號</td>\n",
       "      <td>22.897250</td>\n",
       "      <td>120.671755</td>\n",
       "    </tr>\n",
       "    <tr>\n",
       "      <th>819</th>\n",
       "      <td>高雄市茂林區萬山部落</td>\n",
       "      <td>851高雄市茂林區萬山巷30號</td>\n",
       "      <td>22.908130</td>\n",
       "      <td>120.680890</td>\n",
       "    </tr>\n",
       "    <tr>\n",
       "      <th>820</th>\n",
       "      <td>高雄市茄萣區公所</td>\n",
       "      <td>852高雄市茄萣區濱海路四段27號</td>\n",
       "      <td>22.907902</td>\n",
       "      <td>120.180237</td>\n",
       "    </tr>\n",
       "    <tr>\n",
       "      <th>821</th>\n",
       "      <td>高雄市立圖書館茄萣分館</td>\n",
       "      <td>852高雄市茄萣區濱海路四段31巷1號</td>\n",
       "      <td>22.907803</td>\n",
       "      <td>120.180030</td>\n",
       "    </tr>\n",
       "    <tr>\n",
       "      <th>822</th>\n",
       "      <td>茄萣郵局</td>\n",
       "      <td>852高雄市茄萣區進學路158號</td>\n",
       "      <td>22.903999</td>\n",
       "      <td>120.186640</td>\n",
       "    </tr>\n",
       "  </tbody>\n",
       "</table>\n",
       "<p>823 rows × 4 columns</p>\n",
       "</div>"
      ],
      "text/plain": [
       "              地點                     地址   latitude   longitude\n",
       "0     華南商業銀行路竹分行      721高雄市路竹區大社路90-2號  22.865499  120.263042\n",
       "1         高雄順昌郵局  800高雄市新興區七賢一路104、106號  22.633889  120.314262\n",
       "2     臺灣土地銀行新興分行      800高雄市新興區七賢一路480號  22.634608  120.304076\n",
       "3     華南商業銀行新興分行      800高雄市新興區中山一路117號  22.632174  120.301344\n",
       "4     兆豐國際商銀新興分行      800高雄市新興區中山一路308號  22.636466  120.302621\n",
       "..           ...                    ...        ...         ...\n",
       "818         茂林郵局       851高雄市茂林區茂林村8-3號  22.897250  120.671755\n",
       "819   高雄市茂林區萬山部落        851高雄市茂林區萬山巷30號  22.908130  120.680890\n",
       "820     高雄市茄萣區公所      852高雄市茄萣區濱海路四段27號  22.907902  120.180237\n",
       "821  高雄市立圖書館茄萣分館    852高雄市茄萣區濱海路四段31巷1號  22.907803  120.180030\n",
       "822         茄萣郵局       852高雄市茄萣區進學路158號  22.903999  120.186640\n",
       "\n",
       "[823 rows x 4 columns]"
      ]
     },
     "execution_count": 8,
     "metadata": {},
     "output_type": "execute_result"
    }
   ],
   "source": [
    "\"\"\" 請匯入 CSV 檔案或是 Excel 檔案 \"\"\"\n",
    "\n",
    "raw_date=pd.read_csv(\"109itaiwanhotspots.csv\")\n",
    "raw_date"
   ]
  },
  {
   "cell_type": "code",
   "execution_count": 23,
   "metadata": {},
   "outputs": [
    {
     "data": {
      "text/html": [
       "<div>\n",
       "<style scoped>\n",
       "    .dataframe tbody tr th:only-of-type {\n",
       "        vertical-align: middle;\n",
       "    }\n",
       "\n",
       "    .dataframe tbody tr th {\n",
       "        vertical-align: top;\n",
       "    }\n",
       "\n",
       "    .dataframe thead th {\n",
       "        text-align: right;\n",
       "    }\n",
       "</style>\n",
       "<table border=\"1\" class=\"dataframe\">\n",
       "  <thead>\n",
       "    <tr style=\"text-align: right;\">\n",
       "      <th></th>\n",
       "      <th>地點</th>\n",
       "    </tr>\n",
       "  </thead>\n",
       "  <tbody>\n",
       "    <tr>\n",
       "      <th>2</th>\n",
       "      <td>臺灣土地銀行新興分行</td>\n",
       "    </tr>\n",
       "    <tr>\n",
       "      <th>3</th>\n",
       "      <td>華南商業銀行新興分行</td>\n",
       "    </tr>\n",
       "    <tr>\n",
       "      <th>4</th>\n",
       "      <td>兆豐國際商銀新興分行</td>\n",
       "    </tr>\n",
       "    <tr>\n",
       "      <th>5</th>\n",
       "      <td>高雄市新興區公所</td>\n",
       "    </tr>\n",
       "  </tbody>\n",
       "</table>\n",
       "</div>"
      ],
      "text/plain": [
       "           地點\n",
       "2  臺灣土地銀行新興分行\n",
       "3  華南商業銀行新興分行\n",
       "4  兆豐國際商銀新興分行\n",
       "5    高雄市新興區公所"
      ]
     },
     "execution_count": 23,
     "metadata": {},
     "output_type": "execute_result"
    }
   ],
   "source": [
    "\"\"\" 請使用 .loc 挑選出三組感興趣的資料，並詳細說明對哪三組資料感興趣\"\"\"\n",
    "raw_date.loc[2:5,['地點']]\n",
    "\n"
   ]
  },
  {
   "cell_type": "code",
   "execution_count": 19,
   "metadata": {},
   "outputs": [
    {
     "data": {
      "text/html": [
       "<div>\n",
       "<style scoped>\n",
       "    .dataframe tbody tr th:only-of-type {\n",
       "        vertical-align: middle;\n",
       "    }\n",
       "\n",
       "    .dataframe tbody tr th {\n",
       "        vertical-align: top;\n",
       "    }\n",
       "\n",
       "    .dataframe thead th {\n",
       "        text-align: right;\n",
       "    }\n",
       "</style>\n",
       "<table border=\"1\" class=\"dataframe\">\n",
       "  <thead>\n",
       "    <tr style=\"text-align: right;\">\n",
       "      <th></th>\n",
       "      <th>地點</th>\n",
       "      <th>地址</th>\n",
       "      <th>latitude</th>\n",
       "      <th>longitude</th>\n",
       "    </tr>\n",
       "  </thead>\n",
       "  <tbody>\n",
       "    <tr>\n",
       "      <th>816</th>\n",
       "      <td>那瑪夏郵局</td>\n",
       "      <td>849高雄市那瑪夏區達卡努瓦里大光巷230號</td>\n",
       "      <td>23.277196</td>\n",
       "      <td>120.720216</td>\n",
       "    </tr>\n",
       "    <tr>\n",
       "      <th>814</th>\n",
       "      <td>高雄市桃源區梅山部落</td>\n",
       "      <td>848高雄市桃源區梅山巷9號</td>\n",
       "      <td>23.273730</td>\n",
       "      <td>120.825910</td>\n",
       "    </tr>\n",
       "    <tr>\n",
       "      <th>813</th>\n",
       "      <td>玉山國家公園梅山遊客中心</td>\n",
       "      <td>848高雄市桃源區梅山巷44-5號</td>\n",
       "      <td>23.263056</td>\n",
       "      <td>120.826182</td>\n",
       "    </tr>\n",
       "  </tbody>\n",
       "</table>\n",
       "</div>"
      ],
      "text/plain": [
       "               地點                      地址   latitude   longitude\n",
       "816         那瑪夏郵局  849高雄市那瑪夏區達卡努瓦里大光巷230號  23.277196  120.720216\n",
       "814    高雄市桃源區梅山部落          848高雄市桃源區梅山巷9號  23.273730  120.825910\n",
       "813  玉山國家公園梅山遊客中心       848高雄市桃源區梅山巷44-5號  23.263056  120.826182"
      ]
     },
     "execution_count": 19,
     "metadata": {},
     "output_type": "execute_result"
    }
   ],
   "source": [
    "\"\"\" 請使用 .iloc 挑選出三組感興趣的資料，並詳細說明對哪三組資料感興趣\"\"\"\n",
    "raw_date.sort_values(by=\"latitude\",ascending=False).iloc[0:3]  "
   ]
  }
 ],
 "metadata": {
  "kernelspec": {
   "display_name": "Python 3",
   "language": "python",
   "name": "python3"
  },
  "language_info": {
   "codemirror_mode": {
    "name": "ipython",
    "version": 3
   },
   "file_extension": ".py",
   "mimetype": "text/x-python",
   "name": "python",
   "nbconvert_exporter": "python",
   "pygments_lexer": "ipython3",
   "version": "3.10.11"
  },
  "orig_nbformat": 4
 },
 "nbformat": 4,
 "nbformat_minor": 2
}
