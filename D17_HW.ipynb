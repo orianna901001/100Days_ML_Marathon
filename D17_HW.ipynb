{
 "cells": [
  {
   "cell_type": "markdown",
   "id": "2b079d50",
   "metadata": {},
   "source": [
    "# [作業1]\n",
    "請查詢線性迴歸模型在統計上對於模型的四個假設？\n",
    "可以參考 Wikipedia: Regression analysis"
   ]
  },
  {
   "cell_type": "markdown",
   "id": "2ede25fa",
   "metadata": {},
   "source": [
    "真實的關係為線性：自變數X與依變數之間存在線性關係\n",
    "\n",
    "誤差值具獨立性：殘差是獨立的，特別是時間序列數據中的連續殘差之間沒有相關性。\n",
    "\n",
    "自變數的變異數不為零：假設每一個自變數的變異數都不為零。 如果自變數的變異數為零，那該變數對因變數就沒有任何解釋力。\n",
    "\n",
    "誤差項的常態性與同質變異性：假設誤差項呈現常態分佈，並且不同觀測值的誤差項的變異數相同（即同質變異性）。"
   ]
  },
  {
   "cell_type": "markdown",
   "id": "63e8fa6b",
   "metadata": {},
   "source": [
    "# [作業2]\n",
    "請查詢如何用最小平方法解線性迴歸問題（也就是求線性迴歸問題的公式解）？請列出詳細數學推導過程。"
   ]
  },
  {
   "cell_type": "markdown",
   "id": "34adfdff",
   "metadata": {},
   "source": [
    "估計迴歸係數最常用的方法之一就是普通最小平方(ordinary least squares) ，又簡稱為最小平方法。\n",
    "假設有一組數據，目標是找到一條直線，使得所有點到這條直線的垂直距離的平方和最小。 這條直線的方程式為 y = mx + b，其中 m 是斜率，b 是截距。\n",
    "\n"
   ]
  },
  {
   "cell_type": "markdown",
   "id": "e639da0e",
   "metadata": {},
   "source": [
    "推導過程：\n",
    "\n",
    "定義誤差函數（Error Function）：這是一個關於 m 和 b 的函數，表示所有點到直線的垂直距離的平方和。 目標是找到 m 和 b 的值。\n",
    "\n",
    "E(m, b) = Σ(yᵢ - (mxᵢ + b))²\n",
    "其中 xᵢ 和 yᵢ 是數據點，Σ表示對所有數據點求和。\n",
    "對 m 和 b 分別求偏導數，並設定為零，得到兩個方程式。\n",
    "\n",
    "∂E/∂m = 0\n",
    "∂E/∂b = 0\n",
    "解這兩個方程式，得到 m 和 b 的值。\n",
    "\n",
    "m = (NΣxᵢyᵢ - ΣxᵢΣyᵢ) / (NΣxᵢ² - (Σxᵢ)²)\n",
    "b = (Σyᵢ - mΣxᵢ) / N\n",
    "其中 N 是點的數量。\n",
    "可以找到最佳的 m 和 b 的值，使得直線 y = mx + b 最好地擬合給定的數據點。"
   ]
  },
  {
   "cell_type": "markdown",
   "id": "4d8b20fb",
   "metadata": {},
   "source": [
    "觀念：殘差（Residual）與平方損失（Squared Error）：殘差為模型預測值與真實值的差距，平方損失則強調較大誤差。\n"
   ]
  }
 ],
 "metadata": {
  "language_info": {
   "name": "python"
  }
 },
 "nbformat": 4,
 "nbformat_minor": 5
}
